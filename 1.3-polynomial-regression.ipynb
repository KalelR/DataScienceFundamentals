{
 "cells": [
  {
   "cell_type": "markdown",
   "id": "e291c66f-8882-4c91-a2af-962fc433ab36",
   "metadata": {},
   "source": [
    "# 1.3 - Polynomial Regression"
   ]
  },
  {
   "cell_type": "markdown",
   "id": "fdeb3ed7-3383-4045-b39a-fa5e142bd5a9",
   "metadata": {},
   "source": [
    "__Input__: Dataset $((x_1, y_1), (x_2, y_2), \\cdots, (x_N, y_N))$ with a single feature (aka predictor, or covariate) and a response variable\n",
    "\n",
    "__Purpose__: Find the \"best\" polynomial function $f(x) = \\beta_0 + \\beta_1 x + \\beta_2 x^2 + ... + \\beta_m x^m$ that fits the data. \n",
    "\n",
    "__Approach__: Treat each nonlinear term in $f(x)$ as a new independent linear feature. Then, use multilinear regression.\n",
    "\n",
    "__Assumptions__: That data follows the polynomial function $f(x)$ with degree $m$.\n",
    "\n",
    "__Hyperparameters__: $m$, degree of the polynomial. Other assumptions from multilinear regression.\n",
    "\n"
   ]
  },
  {
   "cell_type": "markdown",
   "id": "fac12462-1463-4585-b0c5-e060ade99e65",
   "metadata": {},
   "source": [
    "In the code below I implement this creation of matrix $X$ containing the new predictors $x^i$ along the columns, and then use the code from the past section for the multilinear regression. The example is a bit convoluted: I create the array $x$, then I create the matrix $X$ with the different degrees, multiply it with the pre-defined coefficients to obtain the values of y. I do this instead of simply generating $y$ explicly as in the definition of $f(x)$ because with this I can generate the matrix $X$ with the converted matrix $X_pred$ in the code to ensure that the code is working correctly.\n",
    "\n",
    "Anyway, I generate a simple polynomial curve with some noise and then run the code on it. A small to-do would be to implement the sci-kit version and compare."
   ]
  },
  {
   "cell_type": "code",
   "execution_count": 42,
   "id": "b68d44c9-c2e6-44cc-9c24-61fb435ae746",
   "metadata": {},
   "outputs": [],
   "source": [
    "import numpy as np\n",
    "\n",
    "def pad_matrix_with_ones(M):\n",
    "    \"\"\"receive a (n, P) matrix M, pad it on the left with ones to return a (n, P+1) matrix to be used in MLR\"\"\"\n",
    "    # Get the number of rows in the matrix\n",
    "    n = M.shape[0]\n",
    "    \n",
    "    # Create a column vector of ones with the same number of rows as the input matrix\n",
    "    ones_column = np.ones((n, 1))\n",
    "    \n",
    "    # Concatenate the column vector of ones with the input matrix horizontally\n",
    "    padded_M = np.hstack((ones_column, M))\n",
    "    \n",
    "    return padded_M\n",
    "\n",
    "def polynomial_predictors(x, degree):\n",
    "    \"\"\"create matrix X with j-th column containing x^j, already padded with ones on the left\"\"\"\n",
    "    X = np.ones((len(x), degree+1))\n",
    "    for i in range(1, degree+1):\n",
    "        X[:, i] = x_vals ** i\n",
    "    return X\n",
    "\n",
    "def estimate_coefficients_polynomial(x, y, degree):\n",
    "    X = polynomial_predictors(x, degree)\n",
    "    coeffs = estimate_coefficients_multilinear(X, y)\n",
    "    return coeffs, X\n",
    "\n",
    "def estimate_coefficients_multilinear(X, Y):\n",
    "    \"\"\" \n",
    "    X: feature matrix, padded with ones on the left\n",
    "    Y: response vector\n",
    "    \"\"\"\n",
    "    XT = np.transpose(X)\n",
    "    coeffs = np.linalg.inv(XT @ X) @ XT @ Y\n",
    "    return coeffs\n",
    "\n",
    "def linear_regression_estimate(X, beta):\n",
    "    return X @ beta\n"
   ]
  },
  {
   "cell_type": "code",
   "execution_count": 38,
   "id": "152808d1-4d40-4aeb-b267-79fd31cfe804",
   "metadata": {},
   "outputs": [],
   "source": [
    "def generate_polynomial_noisy_data(num_points, noise_strength, coefficients):\n",
    "    \"\"\" given a vector of n amplitudes, generate a multilinear response y = intercept + coefficients \"\"\"\n",
    "    # Set random seed for reproducibility\n",
    "    np.random.seed(1)\n",
    "    \n",
    "    # Generate random x values between 0 and 10\n",
    "    num_feats = len(x_amp) \n",
    "    X = np.zeros((num_points, num_feats))\n",
    "    x_vals = np.sort(np.random.uniform(-1, 1, num_points))\n",
    "    for i in range(0, num_feats):\n",
    "        degree = i+1\n",
    "        X[:, i] = x_vals ** degree\n",
    "\n",
    "    X_padded = pad_matrix_with_ones(X)\n",
    "    \n",
    "    # Generate y values using a linear relationship with noise\n",
    "    y_true = X_padded @ coefficients\n",
    "\n",
    "    # Generate random noise for y values\n",
    "    noise = noise_strength * np.random.randn(num_points)\n",
    "    \n",
    "    y_noise = y_true + noise\n",
    "    return x_vals, X, X_padded, y_true, y_noise\n",
    "\n",
    "# Generate example\n",
    "num_points = 50\n",
    "noise_strength = 0.2\n",
    "coefficients = (2, 3, 5, 3) #intercept and slopes\n",
    "real_degree = len(coefficients)-1\n",
    "x_vals, X, X_padded, y_true, y = generate_polynomial_noisy_data(num_points, noise_strength, coefficients)\n",
    "\n"
   ]
  },
  {
   "cell_type": "code",
   "execution_count": 39,
   "id": "ad885dc8-4455-4d11-a64c-c4219b723333",
   "metadata": {},
   "outputs": [
    {
     "name": "stdout",
     "output_type": "stream",
     "text": [
      "Polynomial predictors is working: True\n"
     ]
    },
    {
     "data": {
      "text/plain": [
       "<matplotlib.legend.Legend at 0x7215c9363890>"
      ]
     },
     "execution_count": 39,
     "metadata": {},
     "output_type": "execute_result"
    },
    {
     "data": {
      "image/png": "[encoded data removed]",
      "text/plain": [
       "<Figure size 640x480 with 1 Axes>"
      ]
     },
     "metadata": {},
     "output_type": "display_data"
    }
   ],
   "source": [
    "#inputs: x_vals, y\n",
    "degree = real_degree\n",
    "X_pred = polynomial_predictors(x_vals, degree)\n",
    "print(f'Polynomial predictors is working: {np.allclose(X_padded, X_pred)}')\n",
    "\n",
    "coeffs, X_pred = estimate_coefficients_polynomial(x_vals, y, degree)\n",
    "y_pred = linear_regression_estimate(X_pred, coeffs)\n",
    "import matplotlib.pyplot as plt\n",
    "plt.scatter(x_vals, y, label = f'Data')\n",
    "plt.plot(x_vals, y_pred, color='red', label=f'Estimate using degree {degree}')\n",
    "plt.legend()\n"
   ]
  },
  {
   "cell_type": "code",
   "execution_count": null,
   "id": "d9a1f863-57ad-4438-8da7-8ed0567a230c",
   "metadata": {},
   "outputs": [],
   "source": [
    "from sklearn.preprocessing import PolynomialFeatures\n",
    "from sklearn.linear_model import LinearRegression\n",
    "\n",
    "def get_poly_pred(x_train, x_test, y_train, degree=1):\n",
    "\n",
    "    # Generate polynomial features on the train data\n",
    "    x_poly_train= PolynomialFeatures(degree=degree).fit_transform(x_train)\n",
    "\n",
    "    # Generate polynomial features on the test data\n",
    "    print(x_train.shape, x_test.shape, y_train.shape)\n",
    "    x_poly_test= PolynomialFeatures(degree=degree).fit_transform(x_test)\n",
    "\n",
    "    # Initialize a model to perform polynomial regression\n",
    "    polymodel = LinearRegression()\n",
    "\n",
    "    # Fit the model on the polynomial transformed train data\n",
    "    polymodel.fit(x_poly_train, y_train)\n",
    "\n",
    "    # Predict on the entire polynomial transformed test data\n",
    "    y_poly_pred = polymodel.predict(x_poly_test)\n",
    "    return y_poly_pred"
   ]
  }
 ],
 "metadata": {
  "kernelspec": {
   "display_name": "Python 3 (ipykernel)",
   "language": "python",
   "name": "python3"
  },
  "language_info": {
   "codemirror_mode": {
    "name": "ipython",
    "version": 3
   },
   "file_extension": ".py",
   "mimetype": "text/x-python",
   "name": "python",
   "nbconvert_exporter": "python",
   "pygments_lexer": "ipython3",
   "version": "3.11.7"
  }
 },
 "nbformat": 4,
 "nbformat_minor": 5
}
