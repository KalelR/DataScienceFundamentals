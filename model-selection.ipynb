{
 "cells": [
  {
   "cell_type": "markdown",
   "id": "65ce0a17-ab2d-4a2c-adfa-6bdc34d951f5",
   "metadata": {},
   "source": []
  },
  {
   "cell_type": "markdown",
   "id": "3da612f7-3906-414b-9199-40cd8426c7f1",
   "metadata": {},
   "source": []
  },
  {
   "cell_type": "code",
   "execution_count": null,
   "id": "4c95c49f-25c2-4ca5-b9a8-a2703986e80f",
   "metadata": {},
   "outputs": [],
   "source": []
  },
  {
   "cell_type": "code",
   "execution_count": null,
   "id": "036fd641-d4b2-4e5a-bc84-f31d85f8dc65",
   "metadata": {},
   "outputs": [],
   "source": []
  }
 ],
 "metadata": {
  "kernelspec": {
   "display_name": "Python 3 (ipykernel)",
   "language": "python",
   "name": "python3"
  },
  "language_info": {
   "codemirror_mode": {
    "name": "ipython",
    "version": 3
   },
   "file_extension": ".py",
   "mimetype": "text/x-python",
   "name": "python",
   "nbconvert_exporter": "python",
   "pygments_lexer": "ipython3",
   "version": "3.11.7"
  }
 },
 "nbformat": 4,
 "nbformat_minor": 5
}
