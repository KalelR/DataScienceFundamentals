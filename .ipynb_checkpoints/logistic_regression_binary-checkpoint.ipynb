{
 "cells": [
  {
   "cell_type": "markdown",
   "id": "96e158ce-c27a-4df7-84be-404d9f191510",
   "metadata": {},
   "source": [
    "# Binary Logistic Regression\n",
    "Really simple exercise for me to try these concepts out. I will generate a super simple binary dataset with one predictor (ages and dead) and perform a logistic regression. \n",
    "I will model first the probs p(y=alive | x) as a logistic, so the fit should be perfect. "
   ]
  },
  {
   "cell_type": "code",
   "execution_count": 4,
   "id": "8dee8864-619b-46f4-a8ad-5407a84c3441",
   "metadata": {},
   "outputs": [],
   "source": [
    "import pandas\n",
    "import random"
   ]
  },
  {
   "cell_type": "code",
   "execution_count": 5,
   "id": "5e8e3fb2-b7d0-4989-b6d8-db32be50304e",
   "metadata": {},
   "outputs": [],
   "source": [
    "x_min = 1; x_max = 90; num_xs = 100\n",
    "x_vals = [random.randint(x_min, x_max) for _ in range(num_xs)]  #ages"
   ]
  },
  {
   "cell_type": "code",
   "execution_count": 6,
   "id": "4fea9945-866c-4e60-9f06-df5391934fb2",
   "metadata": {},
   "outputs": [
    {
     "ename": "NameError",
     "evalue": "name 'exp' is not defined",
     "output_type": "error",
     "traceback": [
      "\u001b[0;31m---------------------------------------------------------------------------\u001b[0m",
      "\u001b[0;31mNameError\u001b[0m                                 Traceback (most recent call last)",
      "Cell \u001b[0;32mIn[6], line 9\u001b[0m\n\u001b[1;32m      6\u001b[0m     exp_term \u001b[38;5;241m=\u001b[39m exp(true_intercept \u001b[38;5;241m+\u001b[39m true_slope \u001b[38;5;241m*\u001b[39m x)\n\u001b[1;32m      7\u001b[0m     \u001b[38;5;28;01mreturn\u001b[39;00m exp_term \u001b[38;5;241m/\u001b[39m (\u001b[38;5;241m1\u001b[39m \u001b[38;5;241m+\u001b[39m exp_term)\n\u001b[0;32m----> 9\u001b[0m y_vals \u001b[38;5;241m=\u001b[39m logistic(x_vals, true_intercept, true_slope)\n",
      "Cell \u001b[0;32mIn[6], line 6\u001b[0m, in \u001b[0;36mlogistic\u001b[0;34m(x, true_intercept, true_slope)\u001b[0m\n\u001b[1;32m      5\u001b[0m \u001b[38;5;28;01mdef\u001b[39;00m \u001b[38;5;21mlogistic\u001b[39m(x, true_intercept, true_slope):\n\u001b[0;32m----> 6\u001b[0m     exp_term \u001b[38;5;241m=\u001b[39m exp(true_intercept \u001b[38;5;241m+\u001b[39m true_slope \u001b[38;5;241m*\u001b[39m x)\n\u001b[1;32m      7\u001b[0m     \u001b[38;5;28;01mreturn\u001b[39;00m exp_term \u001b[38;5;241m/\u001b[39m (\u001b[38;5;241m1\u001b[39m \u001b[38;5;241m+\u001b[39m exp_term)\n",
      "\u001b[0;31mNameError\u001b[0m: name 'exp' is not defined"
     ]
    }
   ],
   "source": [
    "import numpy as np\n",
    "\n",
    "true_intercept = 1\n",
    "true_slope = 5\n",
    "def logistic(x, true_intercept, true_slope):\n",
    "    exp_term = np.exp(true_intercept + true_slope * x)\n",
    "    return exp_term / (1 + exp_term)\n",
    "\n",
    "y_vals = logistic(x_vals, true_intercept, true_slope)"
   ]
  }
 ],
 "metadata": {
  "kernelspec": {
   "display_name": "Python 3 (ipykernel)",
   "language": "python",
   "name": "python3"
  },
  "language_info": {
   "codemirror_mode": {
    "name": "ipython",
    "version": 3
   },
   "file_extension": ".py",
   "mimetype": "text/x-python",
   "name": "python",
   "nbconvert_exporter": "python",
   "pygments_lexer": "ipython3",
   "version": "3.11.7"
  }
 },
 "nbformat": 4,
 "nbformat_minor": 5
}
