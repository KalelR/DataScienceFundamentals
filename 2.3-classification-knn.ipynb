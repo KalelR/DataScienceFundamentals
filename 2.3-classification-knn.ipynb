{
 "cells": [
  {
   "cell_type": "markdown",
   "id": "e2b41692-9fcc-4e19-931e-96d981404cee",
   "metadata": {},
   "source": [
    "# 2.3 - Classification using kNN"
   ]
  },
  {
   "cell_type": "markdown",
   "id": "3928abe2-eba8-4f15-b15f-f08561635196",
   "metadata": {},
   "source": [
    "__Input__: Dataset $((x_{11}, x_{12}, \\cdots, x_{1n}, y_1), (x_{21}, x_{22}, \\cdots, x_{2n}, y_2), \\cdots, (x_{N1}, x_{N2}, \\cdots, x_{Nn}, y_N))$ with **multiple** (n) features and a response variable, with $P$ measurements\n",
    "\n",
    "__Purpose__: predict a response value $\\hat{y_p}$ for any given predictor $X_p = (x_{p1}, x_{p2}, ..., x_{pn})$\n",
    "\n",
    "__Approach__: find the most common class among the neighborhood of $X_p$ (the points with the smallest distance)\n",
    "\n",
    "__Assumptions__: None. Can increase bias if dataset is already biased. \n",
    "\n",
    "__Hyperparameters__: $k$, number of nearest neighbors, metric with which to compute distance.\n",
    "\n",
    "Given some new feature $X_p$, proceed as follows:\n",
    "1. Compute the distance $\\mathrm{dist}(X_p, X_i)$ from $X_p$ to all other values $X_i$ (i=1:N) in the dataset. This is using some chosen distance metric.\n",
    "2. Select the $k$ points with the smallest distances (nearest neighbors) into a neighborhood $\\Omega$. \n",
    "3. Find the most common class $y_k$ in this neighborhood, and make $\\hat{y} = y_k$. "
   ]
  },
  {
   "cell_type": "code",
   "execution_count": 53,
   "id": "1630d1ca-8d65-4831-a0c8-6746732e1f26",
   "metadata": {},
   "outputs": [],
   "source": [
    "import numpy as np\n",
    "from scipy.stats import mode\n",
    "\n",
    "def most_common_value(arr):\n",
    "    mode_result = mode(arr)\n",
    "    return mode_result.mode\n",
    "\n",
    "class KNNClassifierManual:\n",
    "    def __init__(self, k=1):\n",
    "        self.k = k\n",
    "\n",
    "    def fit(self, X_train, y_train):\n",
    "        \"\"\"\n",
    "        Train the KNNClassifier model.\n",
    "        - X_train (numpy.ndarray): Training data features.\n",
    "        - y_train (numpy.ndarray): Training data labels.\n",
    "        \"\"\"\n",
    "        self.X_train = X_train\n",
    "        self.y_train = y_train\n",
    "\n",
    "    def predict(self, X_test):\n",
    "        predictions = np.zeros(len(X_test), dtype=np.int32)\n",
    "        for i, x in enumerate(X_test):\n",
    "            distances = np.sqrt(np.sum((self.X_train - x) ** 2, axis=1))\n",
    "            nearest_neighbors = np.argsort(distances)[:self.k]  #for each point in X_test, find closest points in X_train\n",
    "            most_common = most_common_value(self.y_train[nearest_neighbors])\n",
    "            predictions[i] = most_common\n",
    "        return predictions\n"
   ]
  },
  {
   "cell_type": "code",
   "execution_count": 54,
   "id": "88c3def0-b23b-4b02-8443-deebfed51398",
   "metadata": {},
   "outputs": [],
   "source": [
    "# Generate example following Logistic Function\n",
    "import random\n",
    "import numpy as np\n",
    "import matplotlib.pyplot as plt\n",
    "\n",
    "def logistic(x, true_intercept, true_slope):\n",
    "    exp_term = np.exp(true_intercept + true_slope * x)\n",
    "    return exp_term / (1 + exp_term)\n",
    "\n",
    "x_min = 1; x_max = 90; num_xs = 1000\n",
    "\n",
    "x_vals = np.array([random.randint(x_min, x_max) for _ in range(num_xs)])  #ages\n",
    "X_vals = x_vals.reshape(-1, 1)\n",
    "\n",
    "\n",
    "true_intercept = -2\n",
    "true_slope = 0.05\n",
    "\n",
    "y_vals = logistic(x_vals, true_intercept, true_slope) #generate continuous values\n",
    "y_binary = np.array([1 if y > 0.5 else 0 for y in y_vals]) # discretize into two classes"
   ]
  },
  {
   "cell_type": "code",
   "execution_count": 57,
   "id": "676b356d-b13d-4968-a565-42f22322dccc",
   "metadata": {},
   "outputs": [
    {
     "name": "stdout",
     "output_type": "stream",
     "text": [
      "Accuracy = 1.0\n"
     ]
    },
    {
     "data": {
      "text/plain": [
       "<matplotlib.legend.Legend at 0x7750a41a7690>"
      ]
     },
     "execution_count": 57,
     "metadata": {},
     "output_type": "execute_result"
    },
    {
     "data": {
      "image/png": "[encoded data removed]",
      "text/plain": [
       "<Figure size 640x480 with 1 Axes>"
      ]
     },
     "metadata": {},
     "output_type": "display_data"
    }
   ],
   "source": [
    "model = KNNClassifierManual(k=2)\n",
    "model.fit(X_vals, y_binary)\n",
    "predictions = model.predict(X_vals)\n",
    "\n",
    "accuracy = np.mean(np.array(predictions) == np.array(y_binary))\n",
    "print(f'Accuracy = {accuracy}')\n",
    "\n",
    "plt.scatter(x_vals, y_binary, color='red', label = 'true values')\n",
    "plt.scatter(X_vals, predictions, color='green', label = 'estimated values')\n",
    "plt.legend()"
   ]
  },
  {
   "cell_type": "code",
   "execution_count": null,
   "id": "e1041dfd-cf8e-4cd5-b44e-055955e22f6e",
   "metadata": {},
   "outputs": [],
   "source": []
  }
 ],
 "metadata": {
  "kernelspec": {
   "display_name": "Python 3 (ipykernel)",
   "language": "python",
   "name": "python3"
  },
  "language_info": {
   "codemirror_mode": {
    "name": "ipython",
    "version": 3
   },
   "file_extension": ".py",
   "mimetype": "text/x-python",
   "name": "python",
   "nbconvert_exporter": "python",
   "pygments_lexer": "ipython3",
   "version": "3.11.7"
  }
 },
 "nbformat": 4,
 "nbformat_minor": 5
}
