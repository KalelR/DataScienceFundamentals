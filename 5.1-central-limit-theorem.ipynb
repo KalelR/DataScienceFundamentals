{
 "cells": [
  {
   "cell_type": "markdown",
   "id": "db2766e2-784e-49ff-a24d-a3e840b204f9",
   "metadata": {},
   "source": [
    "# 5.1 - Central Limit Theorem"
   ]
  },
  {
   "cell_type": "markdown",
   "id": "b34d05ac-0124-4475-9ceb-006d20488f8e",
   "metadata": {},
   "source": [
    "Suppose $X_1, X_2, ...$ is a sequence of independent and identically distributed random variables with $E[X_i] = \\mu$ and $Var[X_i] = \\sigma^2 < \\infty$. Define their sample average $\\overline{X}_n \\equiv \\frac{X_1 + ... + X_n}{n}$. Then, as $n\\to\\infty$, the random variables $\\overline{Y}_n \\equiv \\sqrt{n}(\\overline{X}_n - \\mu)$ converge in distribution to a normal $\\mathcal{N}{0, \\sigma^2}$. In other words, $\\overline{X}_n$ converges to $\\mathcal{N}(\\mu, (\\sigma/\\sqrt{n}))^2$."
   ]
  },
  {
   "cell_type": "code",
   "execution_count": null,
   "id": "49149b05-d891-46bd-b5ac-2b3746b06b87",
   "metadata": {},
   "outputs": [],
   "source": []
  }
 ],
 "metadata": {
  "kernelspec": {
   "display_name": "Python 3 (ipykernel)",
   "language": "python",
   "name": "python3"
  },
  "language_info": {
   "codemirror_mode": {
    "name": "ipython",
    "version": 3
   },
   "file_extension": ".py",
   "mimetype": "text/x-python",
   "name": "python",
   "nbconvert_exporter": "python",
   "pygments_lexer": "ipython3",
   "version": "3.11.7"
  }
 },
 "nbformat": 4,
 "nbformat_minor": 5
}
