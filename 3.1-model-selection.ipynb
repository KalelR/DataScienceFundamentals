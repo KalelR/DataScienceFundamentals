{
 "cells": [
  {
   "cell_type": "markdown",
   "id": "ba0eea5e-745b-49c5-86cc-5502fe23ad80",
   "metadata": {},
   "source": [
    "# 3.1 - What is a good model?"
   ]
  },
  {
   "cell_type": "markdown",
   "id": "1609b8ca-95c6-41f6-a402-05fb27d86153",
   "metadata": {},
   "source": [
    "Given a dataset, how can we say what the best model is that fits the dataset? What are the properties we look for in a good model?\n",
    "\n",
    "## Properties of a good model\n",
    "A good model must balance both:\n",
    "- accurate: predictions close to the real values (low error),\n",
    "- precise: predictions made on other similar datasets must be similar (generalizable!).\n",
    "\n",
    "![](images/precision-accuracy.png)\n",
    "\n",
    "Accuracy can typically be increased by increasing model complexity (e.g. adding lots of additional parameters) but that can come with a cost of decreasing the precision - complex models tend to specify to the specific datasets they are trained on. They focus on specific but meaningless patterns in the dataset and not on the general patterns (*overfitting*).\n",
    "On the other hand, very small complexity may mean the model is not able to capture the patterns in the data, leading to *underfitting*. \n",
    "\n",
    "![](images/underfitting-overfitting.png)\n",
    "\n",
    "The inverse of accuracy is usually called bias, and the inverse of precision called variance.\n",
    "![](images/complexity-tradeoff.png)\n",
    "\n",
    "Somewhere in the middle there is an optimal balance. But how do we find it?\n",
    "\n",
    "## Model selection\n",
    "Our goal is thus to identifying an accurate model that is generalizable (not overfitted). We must thus:\n",
    "1. Define accuracy measures\n",
    "2. Implement techniques that minimize overfitting:\n",
    "   2.1: validation \n",
    "   2.2: regularization "
   ]
  }
 ],
 "metadata": {
  "kernelspec": {
   "display_name": "Python 3 (ipykernel)",
   "language": "python",
   "name": "python3"
  },
  "language_info": {
   "codemirror_mode": {
    "name": "ipython",
    "version": 3
   },
   "file_extension": ".py",
   "mimetype": "text/x-python",
   "name": "python",
   "nbconvert_exporter": "python",
   "pygments_lexer": "ipython3",
   "version": "3.11.7"
  }
 },
 "nbformat": 4,
 "nbformat_minor": 5
}
